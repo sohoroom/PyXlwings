{
 "cells": [
  {
   "cell_type": "code",
   "execution_count": 1,
   "metadata": {},
   "outputs": [],
   "source": [
    "import xlwings as xw\n",
    "import pandas as pd"
   ]
  },
  {
   "cell_type": "code",
   "execution_count": 2,
   "metadata": {},
   "outputs": [],
   "source": [
    "app = xw.App(visible=True,add_book=False)\n",
    "#app.visible = False\n",
    "wb = app.books.open(r'test1-2-1.xlsx')\n",
    "#wb =xw.book()\n",
    "#wb = xw.Book(r'test1-2-1.xlsx')\n",
    "#wb.save('test1-2-1.xlsx')\n",
    "#wb.close()\n",
    "#app.quit()"
   ]
  },
  {
   "cell_type": "code",
   "execution_count": 3,
   "metadata": {},
   "outputs": [],
   "source": [
    "sht = wb.sheets[0]\n",
    "#sht = wb.sheets['工作表1']\n",
    "sht.clear_contents()\n",
    "sht.cells(1,1).value = 'A1, Hello World!!'\n",
    "sht.cells(2,'A').value = 'A2,Hello World!!'"
   ]
  },
  {
   "cell_type": "code",
   "execution_count": 4,
   "metadata": {},
   "outputs": [],
   "source": [
    "rngA2 = sht.range('a2')\n",
    "#rngA2 = sht['a2']\n",
    "#rngA2 = sht[1,0]\n",
    "rngA1A5 = sht.range('a1:a5')\n",
    "#rngA1A5 = sht['a1:a5']\n",
    "#rngA1A5 = sht[:5,0]"
   ]
  },
  {
   "cell_type": "code",
   "execution_count": 5,
   "metadata": {},
   "outputs": [
    {
     "name": "stdout",
     "output_type": "stream",
     "text": [
      "[['Row1Col1', 'Row1Col2', 'Row1Col3', 'Row1Col4', 'Row1Col5'], ['Row2Col1', 'Row2Col2', 'Row2Col3', 'Row2Col4', 'Row2Col5'], ['Row3Col1', None, None, None, None], ['Row4Col1', None, None, None, None], ['Row5Col1', None, None, None, None]]\n"
     ]
    }
   ],
   "source": [
    "rngA1A5.value = ['Row1Col1','Row1Col2','Row1Col3','Row1Col4','Row1Col5']\n",
    "rngA2.value = ['Row2Col1','Row2Col2','Row2Col3','Row2Col4','Row2Col5']\n",
    "rngA1A5.options(transpose=True).value = ['Row1Col1','Row2Col1','Row3Col1','Row4Col1','Row5Col1']\n",
    "#xlwings寫入預設為以Row由左向右寫入Col，簡意橫書\n",
    "#使用options(transpose=True)可改為直書寫入\n",
    "print(sht.range('a1:e5').value)"
   ]
  },
  {
   "cell_type": "code",
   "execution_count": 6,
   "metadata": {},
   "outputs": [
    {
     "name": "stdout",
     "output_type": "stream",
     "text": [
      "[['Row1Col1', 'Row1Col2', 'Row1Col3', 'Row1Col4', 'Row1Col5'], ['Row2Col1', 'Row2Col2', 'Row2Col3', 'Row2Col4', 'Row2Col5'], ['Row3Col1', 'Row3Col2', 'Row3Col3', 'Row3Col4', 'Row3Col5'], ['Row4Col1', 'Row4Col2', 'Row4Col3', 'Row4Col4', 'Row4Col5'], ['Row5Col1', 'Row5Col2', 'Row5Col3', 'Row5Col4', 'Row5Col5']]\n"
     ]
    }
   ],
   "source": [
    "sht.range('b3').expand('table').value = ([\n",
    "['Row3Col2','Row3Col3','Row3Col4','Row3Col5'],\n",
    "['Row4Col2','Row4Col3','Row4Col4','Row4Col5'],\n",
    "['Row5Col2','Row5Col3','Row5Col4','Row5Col5']\n",
    "])\n",
    "#多行輸入使用expand二維表\n",
    "print(sht.range('a1:e5').value)"
   ]
  },
  {
   "cell_type": "markdown",
   "metadata": {},
   "source": [
    "程式碼過長可用()括入，或於每行尾使用' \\'換行"
   ]
  },
  {
   "cell_type": "code",
   "execution_count": 13,
   "metadata": {},
   "outputs": [
    {
     "name": "stdout",
     "output_type": "stream",
     "text": [
      "a:a 1048576 rows\n",
      "The last row is 5.\n",
      "The last col is 16384.\n"
     ]
    }
   ],
   "source": [
    "a = sht.range('a:a').value\n",
    "print('a:a',len(a),'rows')\n",
    "#列出sht全部共幾rows\n",
    "last_row = sht.range(1,1).end('down').row\n",
    "last_col = sht.range(1,1).end('right').column\n",
    "#同於A1位置按ctrl+down、ctrl+right\n",
    "print('The last row is {row}.'.format(row=last_row))\n",
    "print('The last col is {col}.'.format(col=last_col))"
   ]
  },
  {
   "cell_type": "code",
   "execution_count": 18,
   "metadata": {},
   "outputs": [
    {
     "name": "stdout",
     "output_type": "stream",
     "text": [
      "workbook fullpath&name: C:\\Users\\user\\Desktop\\xlwingsPY\\test1-2\\test1-2-1.xlsx\n",
      "what app handle this workbook: <Excel App 6636>\n",
      "workbook sheets list: Sheets([<Sheet [test1-2-1.xlsx]工作表1>, <Sheet [test1-2-1.xlsx]工作表2>, <Sheet [test1-2-1.xlsx]工作表3>])\n",
      "dir(sht):\n",
      " ['__class__', '__delattr__', '__dict__', '__dir__', '__doc__', '__eq__', '__format__', '__ge__', '__getattribute__', '__getitem__', '__gt__', '__hash__', '__init__', '__init_subclass__', '__le__', '__lt__', '__module__', '__ne__', '__new__', '__reduce__', '__reduce_ex__', '__repr__', '__setattr__', '__sizeof__', '__str__', '__subclasshook__', '__weakref__', 'activate', 'api', 'autofit', 'book', 'cells', 'charts', 'clear', 'clear_contents', 'delete', 'impl', 'index', 'name', 'names', 'pictures', 'range', 'select', 'shapes']\n",
      "dir(rngA2):\n",
      " ['__call__', '__class__', '__delattr__', '__dict__', '__dir__', '__doc__', '__eq__', '__format__', '__ge__', '__getattribute__', '__getitem__', '__gt__', '__hash__', '__init__', '__init_subclass__', '__iter__', '__le__', '__len__', '__lt__', '__module__', '__ne__', '__new__', '__reduce__', '__reduce_ex__', '__repr__', '__setattr__', '__sizeof__', '__str__', '__subclasshook__', '__weakref__', '_options', 'add_hyperlink', 'address', 'api', 'autofit', 'clear', 'clear_contents', 'color', 'column', 'column_width', 'columns', 'count', 'current_region', 'end', 'expand', 'formula', 'formula_array', 'get_address', 'height', 'hyperlink', 'impl', 'last_cell', 'left', 'name', 'number_format', 'offset', 'options', 'raw_value', 'resize', 'row', 'row_height', 'rows', 'select', 'shape', 'sheet', 'size', 'top', 'value', 'width']\n",
      "dir(xw.constants):\n",
      ") ['AboveBelow', 'ActionType', 'Allocation', 'AllocationMethod', 'AllocationValue', 'ApplicationInternational', 'ApplyNamesOrder', 'ArabicModes', 'ArrangeStyle', 'ArrowHeadLength', 'ArrowHeadStyle', 'ArrowHeadWidth', 'AutoFillType', 'AutoFilterOperator', 'AxisCrosses', 'AxisGroup', 'AxisType', 'Background', 'BarShape', 'BorderWeight', 'BordersIndex', 'BuiltInDialog', 'CVError', 'CalcFor', 'CalculatedMemberType', 'Calculation', 'CalculationInterruptKey', 'CalculationState', 'CategoryType', 'CellChangedState', 'CellInsertionMode', 'CellType', 'ChartElementPosition', 'ChartGallery', 'ChartItem', 'ChartLocation', 'ChartPicturePlacement', 'ChartPictureType', 'ChartSplitType', 'ChartType', 'CheckInVersionType', 'ClipboardFormat', 'CmdType', 'ColorIndex', 'ColumnDataType', 'CommandUnderlines', 'CommentDisplayMode', 'ConditionValueTypes', 'ConnectionType', 'ConsolidationFunction', 'Constants', 'ContainsOperator', 'CopyPictureFormat', 'CorruptLoad', 'Creator', 'CredentialsMethod', 'CubeFieldSubType', 'CubeFieldType', 'CutCopyMode', 'DVAlertStyle', 'DVType', 'DataBarAxisPosition', 'DataBarBorderType', 'DataBarFillType', 'DataBarNegativeColorType', 'DataLabelPosition', 'DataLabelSeparator', 'DataLabelsType', 'DataSeriesDate', 'DeleteShiftDirection', 'Direction', 'DisplayBlanksAs', 'DisplayDrawingObjects', 'DisplayUnit', 'DupeUnique', 'DynamicFilterCriteria', 'EditionFormat', 'EditionOptionsOption', 'EditionType', 'EnableCancelKey', 'EnableSelection', 'EndStyleCap', 'ErrorBarDirection', 'ErrorBarInclude', 'ErrorBarType', 'ErrorChecks', 'FileAccess', 'FileFormat', 'FileValidationPivotMode', 'FillWith', 'FilterAction', 'FilterAllDatesInPeriod', 'FindLookIn', 'FixedFormatQuality', 'FixedFormatType', 'FormControl', 'FormatConditionOperator', 'FormatConditionType', 'FormatFilterTypes', 'FormulaLabel', 'GenerateTableRefs', 'GradientFillType', 'HAlign', 'HebrewModes', 'HighlightChangesTime', 'HtmlType', 'IMEMode', 'Icon', 'IconSet', 'ImportDataAs', 'InsertFormatOrigin', 'InsertShiftDirection', 'LayoutFormType', 'LayoutRowType', 'LegendPosition', 'LineStyle', 'Link', 'LinkInfo', 'LinkInfoType', 'LinkStatus', 'LinkType', 'ListConflict', 'ListDataType', 'ListObjectSourceType', 'LocationInTable', 'LookAt', 'LookFor', 'MSApplication', 'MailSystem', 'MarkerStyle', 'MeasurementUnits', 'MouseButton', 'MousePointer', 'OLEType', 'OLEVerb', 'OartHorizontalOverflow', 'OartVerticalOverflow', 'ObjectSize', 'Order', 'Orientation', 'PTSelectionMode', 'PageBreak', 'PageBreakExtent', 'PageOrientation', 'PaperSize', 'ParameterDataType', 'ParameterType', 'PasteSpecialOperation', 'PasteType', 'Pattern', 'PhoneticAlignment', 'PhoneticCharacterType', 'PictureAppearance', 'PictureConvertorType', 'PieSliceIndex', 'PieSliceLocation', 'PivotCellType', 'PivotConditionScope', 'PivotFieldCalculation', 'PivotFieldDataType', 'PivotFieldOrientation', 'PivotFieldRepeatLabels', 'PivotFilterType', 'PivotFormatType', 'PivotLineType', 'PivotTableMissingItems', 'PivotTableSourceType', 'PivotTableVersionList', 'Placement', 'Platform', 'PortugueseReform', 'PrintErrors', 'PrintLocation', 'Priority', 'PropertyDisplayedIn', 'ProtectedViewCloseReason', 'ProtectedViewWindowState', 'QueryType', 'RE_WORD', 'RangeAutoFormat', 'RangeValueDataType', 'ReferenceStyle', 'ReferenceType', 'RemoveDocInfoType', 'RgbColor', 'RobustConnect', 'RoutingSlipDelivery', 'RoutingSlipStatus', 'RowCol', 'RunAutoMacro', 'SaveAction', 'SaveAsAccessMode', 'SaveConflictResolution', 'ScaleType', 'SearchDirection', 'SearchOrder', 'SearchWithin', 'SheetType', 'SheetVisibility', 'SizeRepresents', 'SlicerCrossFilterType', 'SlicerSort', 'SmartTagControlType', 'SmartTagDisplayMode', 'SortDataOption', 'SortMethod', 'SortMethodOld', 'SortOn', 'SortOrder', 'SortOrientation', 'SortType', 'SourceType', 'SpanishModes', 'SparkScale', 'SparkType', 'SparklineRowCol', 'SpeakDirection', 'SpecialCellsValue', 'StdColorScale', 'SubscribeToFormat', 'SubtotalLocationType', 'SummaryColumn', 'SummaryReportType', 'SummaryRow', 'TabPosition', 'TableStyleElementType', 'TextParsingType', 'TextQualifier', 'TextVisualLayoutType', 'ThemeColor', 'ThemeFont', 'ThreadMode', 'TickLabelOrientation', 'TickMark', 'TimePeriods', 'TimeUnit', 'ToolbarProtection', 'TopBottom', 'TotalsCalculation', 'TrendlineType', 'UnderlineStyle', 'UpdateLinks', 'VAlign', 'WBATemplate', 'WebFormatting', 'WebSelectionType', 'WindowState', 'WindowType', 'WindowView', 'XlmMacroType', 'XmlExportResult', 'XmlImportResult', 'XmlLoadOption', 'YesNoGuess', '__builtins__', '__cached__', '__doc__', '__file__', '__loader__', '__name__', '__package__', '__spec__', '_dump_enum', 'calculations', 'chart_types', 'directions', 're', 'shape_types']\n"
     ]
    }
   ],
   "source": [
    "wb.save()\n",
    "print('workbook fullpath&name:',wb.fullname)\n",
    "print('what app handle this workbook:',wb.app)\n",
    "print('workbook sheets list:',wb.sheets)\n",
    "print('dir(sht):\\n',dir(sht))\n",
    "print('dir(rngA2):\\n',dir(rngA2))\n",
    "print('dir(xw.constants):\\n)',dir(xw.constants))"
   ]
  },
  {
   "cell_type": "code",
   "execution_count": 15,
   "metadata": {},
   "outputs": [
    {
     "name": "stdout",
     "output_type": "stream",
     "text": [
      "Excel Sheet to JSON:\n",
      " {\"Row1Col1\":{\"0\":null,\"1\":null,\"2\":null,\"3\":\"Row5Col1\"},\"Unnamed: 1\":{\"0\":null,\"1\":null,\"2\":null,\"3\":null},\"Unnamed: 2\":{\"0\":null,\"1\":null,\"2\":null,\"3\":null},\"Unnamed: 3\":{\"0\":null,\"1\":null,\"2\":null,\"3\":null},\"Unnamed: 4\":{\"0\":null,\"1\":null,\"2\":null,\"3\":\"Row5Col5\"}}\n"
     ]
    }
   ],
   "source": [
    "excel_data_df = pd.read_excel('test1-2-1.xlsx', sheet_name='工作表1')\n",
    "json_str = excel_data_df.to_json()\n",
    "print('Excel Sheet to JSON:\\n', json_str)"
   ]
  },
  {
   "cell_type": "code",
   "execution_count": 7,
   "metadata": {},
   "outputs": [],
   "source": [
    "sht.clear()\n",
    "#sht.clear_contents()\n",
    "sht.range('a1').expand('table').value = ([\n",
    "['Row1Col1','Row1Col2','Row1Col3','Row1Col4','Row1Col5'],\n",
    "['Row2Col1','Row2Col2','Row2Col3','Row2Col4','Row2Col5'],\n",
    "['Row3Col1','Row3Col2','Row3Col3','Row3Col4','Row3Col5'],\n",
    "['Row4Col1','Row4Col2','Row4Col3','Row4Col4','Row4Col5'],\n",
    "['Row5Col1','Row5Col2','Row5Col3','Row5Col4','Row5Col5']\n",
    "])\n",
    "sht.api.rows(1).insert\n",
    "#首列row插入一row\n",
    "sht.api.columns(1).insert\n",
    "#首欄column插入一column\n",
    "sht.range('b1').value = ['Title1','Title2','Title3','Title4','Title5']\n",
    "sht.range('a2').options(transpose=True).value = [1,2,3,4,5]"
   ]
  },
  {
   "cell_type": "code",
   "execution_count": 41,
   "metadata": {},
   "outputs": [
    {
     "name": "stdout",
     "output_type": "stream",
     "text": [
      "[[1.0, 'Row1Col1', 'Row1Col2', 'Row1Col3', 'Row1Col4', 'Row1Col5'], [2.0, 'Row2Col1', 'Row2Col2', 'Row2Col3', 'Row2Col4', 'Row2Col5'], [3.0, 'Row3Col1', 'Row3Col2', 'Row3Col3', 'Row3Col4', 'Row3Col5'], [4.0, 'Row4Col1', 'Row4Col2', 'Row4Col3', 'Row4Col4', 'Row4Col5'], [5.0, 'Row5Col1', 'Row5Col2', 'Row5Col3', 'Row5Col4', 'Row5Col5']]\n",
      "[1.0, 2.0, 3.0, 4.0, 5.0]\n",
      "[[5.0, 'Row5Col1', 'Row5Col2', 'Row5Col3', 'Row5Col4', 'Row5Col5'], [4.0, 'Row4Col1', 'Row4Col2', 'Row4Col3', 'Row4Col4', 'Row4Col5'], [3.0, 'Row3Col1', 'Row3Col2', 'Row3Col3', 'Row3Col4', 'Row3Col5'], [2.0, 'Row2Col1', 'Row2Col2', 'Row2Col3', 'Row2Col4', 'Row2Col5'], [1.0, 'Row1Col1', 'Row1Col2', 'Row1Col3', 'Row1Col4', 'Row1Col5']]\n",
      "[5.0, 4.0, 3.0, 2.0, 1.0]\n",
      "<bound method Sheet.activate of <Sheet [test1-2-1.xlsx]工作表1>>\n",
      "['A1', 'A2', 'A3', None, None, 'A6', 'A7', 'A8']\n"
     ]
    }
   ],
   "source": [
    "sortrange = sht.range('a2:f6')\n",
    "sortkey = sht.range('a2:a6')\n",
    "sortrange.api.Sort(Key1=sortkey.api,Order1=1)\n",
    "print(sortrange.value)\n",
    "print(sortkey.value)\n",
    "sht.range('a2:f6').api.Sort(Key1=sht.range('a2:a6').api, Order1=2)\n",
    "print(sortrange.value)\n",
    "print(sortkey.value)\n",
    "#api排序注意Sort、Key1、Order1均為VBA首字大寫"
   ]
  },
  {
   "cell_type": "code",
   "execution_count": 43,
   "metadata": {},
   "outputs": [
    {
     "name": "stdout",
     "output_type": "stream",
     "text": [
      "<bound method Sheet.activate of <Sheet [test1-2-1.xlsx]工作表1>>\n",
      "['A1', 'A2', 'A3', None, None, 'A6', 'A7', 'A8']\n"
     ]
    }
   ],
   "source": [
    "wb.sheets.add(name = 'Graphs', after = '工作表1')\n",
    "print(sht.activate)\n",
    "wb.sheets('Graphs').range('A1:A8').options(transpose=True).value = ['A1','A2','A3','','','A6','A7','A8']\n",
    "print(wb.sheets('Graphs').range('A1:A8').value)\n",
    "wb.sheets('Graphs').api.rows(2).insert\n",
    "wb.sheets('Graphs').api.columns(1).insert\n",
    "#預設前置插入，原址往後\n",
    "#wb.sheets('Graphs').delete()"
   ]
  }
 ],
 "metadata": {
  "kernelspec": {
   "display_name": "Python 3",
   "language": "python",
   "name": "python3"
  },
  "language_info": {
   "codemirror_mode": {
    "name": "ipython",
    "version": 3
   },
   "file_extension": ".py",
   "mimetype": "text/x-python",
   "name": "python",
   "nbconvert_exporter": "python",
   "pygments_lexer": "ipython3",
   "version": "3.6.5"
  }
 },
 "nbformat": 4,
 "nbformat_minor": 2
}
